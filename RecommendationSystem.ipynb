{
 "cells": [
  {
   "cell_type": "code",
   "execution_count": 1,
   "id": "9e0243fb-0c54-48db-9658-792f1df962b8",
   "metadata": {},
   "outputs": [
    {
     "name": "stdout",
     "output_type": "stream",
     "text": [
      "Collecting django\n",
      "  Obtaining dependency information for django from https://files.pythonhosted.org/packages/75/6f/d2c216d00975e2604b10940937b0ba6b2c2d9b3cc0cc633e414ae3f14b2e/Django-5.1.6-py3-none-any.whl.metadata\n",
      "  Using cached Django-5.1.6-py3-none-any.whl.metadata (4.2 kB)\n",
      "Collecting asgiref<4,>=3.8.1 (from django)\n",
      "  Obtaining dependency information for asgiref<4,>=3.8.1 from https://files.pythonhosted.org/packages/39/e3/893e8757be2612e6c266d9bb58ad2e3651524b5b40cf56761e985a28b13e/asgiref-3.8.1-py3-none-any.whl.metadata\n",
      "  Using cached asgiref-3.8.1-py3-none-any.whl.metadata (9.3 kB)\n",
      "Collecting sqlparse>=0.3.1 (from django)\n",
      "  Obtaining dependency information for sqlparse>=0.3.1 from https://files.pythonhosted.org/packages/a9/5c/bfd6bd0bf979426d405cc6e71eceb8701b148b16c21d2dc3c261efc61c7b/sqlparse-0.5.3-py3-none-any.whl.metadata\n",
      "  Using cached sqlparse-0.5.3-py3-none-any.whl.metadata (3.9 kB)\n",
      "Using cached Django-5.1.6-py3-none-any.whl (8.3 MB)\n",
      "Using cached asgiref-3.8.1-py3-none-any.whl (23 kB)\n",
      "Using cached sqlparse-0.5.3-py3-none-any.whl (44 kB)\n",
      "Installing collected packages: sqlparse, asgiref, django\n",
      "Successfully installed asgiref-3.8.1 django-5.1.6 sqlparse-0.5.3\n",
      "Note: you may need to restart the kernel to use updated packages.\n"
     ]
    }
   ],
   "source": [
    "pip install django"
   ]
  },
  {
   "cell_type": "code",
   "execution_count": 3,
   "id": "53e26af5-5a45-4134-8caf-a0b3e5b8f640",
   "metadata": {},
   "outputs": [
    {
     "name": "stdout",
     "output_type": "stream",
     "text": [
      "Collecting lightfm\n",
      "  Using cached lightfm-1.17.tar.gz (316 kB)\n",
      "  Preparing metadata (setup.py) ... \u001b[?25ldone\n",
      "\u001b[?25hRequirement already satisfied: numpy in /Users/fabricioalmeida/anaconda3/lib/python3.11/site-packages (from lightfm) (1.24.3)\n",
      "Requirement already satisfied: scipy>=0.17.0 in /Users/fabricioalmeida/anaconda3/lib/python3.11/site-packages (from lightfm) (1.11.1)\n",
      "Requirement already satisfied: requests in /Users/fabricioalmeida/anaconda3/lib/python3.11/site-packages (from lightfm) (2.32.3)\n",
      "Requirement already satisfied: scikit-learn in /Users/fabricioalmeida/anaconda3/lib/python3.11/site-packages (from lightfm) (1.3.0)\n",
      "Requirement already satisfied: charset-normalizer<4,>=2 in /Users/fabricioalmeida/anaconda3/lib/python3.11/site-packages (from requests->lightfm) (2.0.4)\n",
      "Requirement already satisfied: idna<4,>=2.5 in /Users/fabricioalmeida/anaconda3/lib/python3.11/site-packages (from requests->lightfm) (3.4)\n",
      "Requirement already satisfied: urllib3<3,>=1.21.1 in /Users/fabricioalmeida/anaconda3/lib/python3.11/site-packages (from requests->lightfm) (1.26.16)\n",
      "Requirement already satisfied: certifi>=2017.4.17 in /Users/fabricioalmeida/anaconda3/lib/python3.11/site-packages (from requests->lightfm) (2024.12.14)\n",
      "Requirement already satisfied: joblib>=1.1.1 in /Users/fabricioalmeida/anaconda3/lib/python3.11/site-packages (from scikit-learn->lightfm) (1.2.0)\n",
      "Requirement already satisfied: threadpoolctl>=2.0.0 in /Users/fabricioalmeida/anaconda3/lib/python3.11/site-packages (from scikit-learn->lightfm) (2.2.0)\n",
      "Building wheels for collected packages: lightfm\n",
      "  Building wheel for lightfm (setup.py) ... \u001b[?25ldone\n",
      "\u001b[?25h  Created wheel for lightfm: filename=lightfm-1.17-cp311-cp311-macosx_11_0_arm64.whl size=418185 sha256=0661c8493a6a77dd3d70bc134af31e054a0997b32482142de21adc0bf52acc85\n",
      "  Stored in directory: /Users/fabricioalmeida/Library/Caches/pip/wheels/b9/0d/8a/0729d2e6e3ca2a898ba55201f905da7db3f838a33df5b3fcdd\n",
      "Successfully built lightfm\n",
      "Installing collected packages: lightfm\n",
      "Successfully installed lightfm-1.17\n",
      "Note: you may need to restart the kernel to use updated packages.\n"
     ]
    }
   ],
   "source": [
    "pip install lightfm"
   ]
  },
  {
   "cell_type": "code",
   "execution_count": 57,
   "id": "75707bbe-e1bf-4222-8474-cc09ba463388",
   "metadata": {},
   "outputs": [],
   "source": [
    "import numpy as np\n",
    "from lightfm.datasets import fetch_movielens\n",
    "from lightfm import LightFM"
   ]
  },
  {
   "cell_type": "code",
   "execution_count": 59,
   "id": "071f98e3-b867-4d9a-86f6-4f945aba9396",
   "metadata": {},
   "outputs": [],
   "source": [
    "#fetching data and formatting it\n",
    "data = fetch_movielens(min_rating=4.0)"
   ]
  },
  {
   "cell_type": "code",
   "execution_count": 61,
   "id": "74c783f3-a979-4b1e-a42a-9f8dfa0119a7",
   "metadata": {},
   "outputs": [
    {
     "name": "stdout",
     "output_type": "stream",
     "text": [
      "<943x1682 sparse matrix of type '<class 'numpy.int32'>'\n",
      "\twith 49906 stored elements in COOrdinate format>\n",
      "<943x1682 sparse matrix of type '<class 'numpy.int32'>'\n",
      "\twith 5469 stored elements in COOrdinate format>\n"
     ]
    }
   ],
   "source": [
    "#printraining and testing the data\n",
    "print(repr(data['train']))\n",
    "print(repr(data['test']))"
   ]
  },
  {
   "cell_type": "code",
   "execution_count": 63,
   "id": "d28b7d7d-82ed-4cbc-8835-2a482dac5dfe",
   "metadata": {},
   "outputs": [],
   "source": [
    "#create model\n",
    "model = LightFM(loss='warp')\n",
    "# this is using the gradient descendent algorithm to \n",
    "#iterativaly find the weights then improve the prediction"
   ]
  },
  {
   "cell_type": "code",
   "execution_count": 65,
   "id": "5a74cbb6-a804-4f3e-86e6-03bee472cb4a",
   "metadata": {},
   "outputs": [
    {
     "name": "stdout",
     "output_type": "stream",
     "text": [
      "User 3\n",
      "    Known positives:\n",
      "        S\n",
      "        C\n",
      "        S\n",
      "    Recommended:\n",
      "        S\n",
      "        C\n",
      "        A\n",
      "User 25\n",
      "    Known positives:\n",
      "        D\n",
      "        S\n",
      "        F\n",
      "    Recommended:\n",
      "        L\n",
      "        E\n",
      "        F\n",
      "User 450\n",
      "    Known positives:\n",
      "        C\n",
      "        G\n",
      "        E\n",
      "    Recommended:\n",
      "        A\n",
      "        K\n",
      "        I\n"
     ]
    }
   ],
   "source": [
    "# Train the model\n",
    "model.fit(data['train'], epochs=30, num_threads=2)  # Corrected num_thread → num_threads\n",
    "\n",
    "def sample_recommendation(model, data, user_ids):\n",
    "    # Number of users and movies in training data\n",
    "    n_users, n_items = data['train'].shape\n",
    "\n",
    "    # Generate recommendations for each user\n",
    "    for user_id in user_ids:\n",
    "        \n",
    "        # Movies the user already likes\n",
    "        known_positives = data['item_labels'][data['train'].tocsr()[user_id].indices]  # Fixed 'item_label' to 'item_labels'\n",
    "\n",
    "        # Movies our model predicts they will like\n",
    "        scores = model.predict(user_id, np.arange(n_items))  # Fixed variable name: score → scores\n",
    "\n",
    "        # Rank them in order of most liked to least\n",
    "        top_items = data['item_labels'][np.argsort(-scores)]  # Fixed missing parenthesis\n",
    "\n",
    "        # Printing the results\n",
    "        print(\"User %s\" % user_id)\n",
    "        print(\"    Known positives:\")\n",
    "\n",
    "        for x in known_positives[:3]:  # Displaying top 3 liked movies\n",
    "            print(\"        %s\" % x)\n",
    "        \n",
    "        print(\"    Recommended:\")\n",
    "\n",
    "        for x in top_items[:3]:  # Displaying top 3 recommendations\n",
    "            print(\"        %s\" % x)\n",
    "\n",
    "# Test the recommendation function\n",
    "sample_recommendation(model, data, [3, 25, 450])"
   ]
  },
  {
   "cell_type": "code",
   "execution_count": null,
   "id": "6c5a3589-5dae-4fdd-b457-dbfc1394360d",
   "metadata": {},
   "outputs": [],
   "source": []
  }
 ],
 "metadata": {
  "kernelspec": {
   "display_name": "Python [conda env:base] *",
   "language": "python",
   "name": "conda-base-py"
  },
  "language_info": {
   "codemirror_mode": {
    "name": "ipython",
    "version": 3
   },
   "file_extension": ".py",
   "mimetype": "text/x-python",
   "name": "python",
   "nbconvert_exporter": "python",
   "pygments_lexer": "ipython3",
   "version": "3.11.5"
  }
 },
 "nbformat": 4,
 "nbformat_minor": 5
}
